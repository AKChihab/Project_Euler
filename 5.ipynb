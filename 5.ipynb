{
 "cells": [
  {
   "cell_type": "markdown",
   "id": "909007b0-e1e6-4db5-92c5-9b13a4e7d95e",
   "metadata": {},
   "source": [
    "2520 is the smallest number that can be divided by each of the numbers from 1 to 10 without any remainder.\n",
    "\n",
    "What is the smallest positive number that is evenly divisible by all of the numbers from 1 to 20?"
   ]
  },
  {
   "cell_type": "code",
   "execution_count": 23,
   "id": "4e331d6f-60b3-47d1-b4ba-50d3b28961fe",
   "metadata": {},
   "outputs": [],
   "source": [
    "import math \n",
    "import sympy as sp\n",
    "import numpy as np \n",
    "from functools import reduce \n",
    "import operator"
   ]
  },
  {
   "cell_type": "code",
   "execution_count": 30,
   "id": "adaa523e-e24b-4466-a9d0-1f48bd591c96",
   "metadata": {},
   "outputs": [
    {
     "name": "stdout",
     "output_type": "stream",
     "text": [
      "[2, 3, 5, 7, 11, 13, 17, 19]\n",
      "The product of list elements is :  9699690\n"
     ]
    }
   ],
   "source": [
    "N=20\n",
    "Prime= list(sp.primerange(N))\n",
    "L=range(10)\n",
    "print(Prime)\n",
    "PP = reduce(operator.mul, Prime)\n",
    "print(\"The product of list elements is : \",PP)"
   ]
  },
  {
   "cell_type": "code",
   "execution_count": 31,
   "id": "67674014-1ed6-44d4-8adf-b4be6d56445b",
   "metadata": {},
   "outputs": [],
   "source": [
    "#np.prod(Prime)\n",
    "#reduce((lambda x, y: x * y), Prime)"
   ]
  },
  {
   "cell_type": "code",
   "execution_count": 32,
   "id": "7645d5f4-f5a8-4097-b341-53787c293e06",
   "metadata": {},
   "outputs": [
    {
     "name": "stdout",
     "output_type": "stream",
     "text": [
      "9699690 2\n",
      "9699690 3\n",
      "9699690 4\n",
      "19399380 5\n",
      "19399380 6\n",
      "19399380 7\n",
      "19399380 8\n",
      "38798760 9\n",
      "116396280 10\n",
      "116396280 11\n",
      "116396280 12\n",
      "116396280 13\n",
      "116396280 14\n",
      "116396280 15\n",
      "116396280 16\n",
      "232792560 17\n",
      "232792560 18\n",
      "232792560 19\n",
      "232792560 20\n"
     ]
    }
   ],
   "source": [
    "i=1\n",
    "while i<N:\n",
    "    if PP%i == 0:\n",
    "        i+=1\n",
    "        print(PP, i )\n",
    "    else:\n",
    "        PP = PP*min(sp.primefactors(i))\n",
    "        i+=1 \n",
    "        print(PP,i)\n"
   ]
  },
  {
   "cell_type": "code",
   "execution_count": 20,
   "id": "e5ff54c3-33df-4aa2-88c1-a60f2f68c51a",
   "metadata": {},
   "outputs": [
    {
     "data": {
      "text/plain": [
       "2"
      ]
     },
     "execution_count": 20,
     "metadata": {},
     "output_type": "execute_result"
    }
   ],
   "source": [
    "min(sp.primefactors(10))"
   ]
  },
  {
   "cell_type": "code",
   "execution_count": null,
   "id": "52737280-d27c-4beb-a53c-22aa6c16f732",
   "metadata": {},
   "outputs": [],
   "source": [
    "[]"
   ]
  }
 ],
 "metadata": {
  "kernelspec": {
   "display_name": "Python 3 (ipykernel)",
   "language": "python",
   "name": "python3"
  },
  "language_info": {
   "codemirror_mode": {
    "name": "ipython",
    "version": 3
   },
   "file_extension": ".py",
   "mimetype": "text/x-python",
   "name": "python",
   "nbconvert_exporter": "python",
   "pygments_lexer": "ipython3",
   "version": "3.9.12"
  }
 },
 "nbformat": 4,
 "nbformat_minor": 5
}
