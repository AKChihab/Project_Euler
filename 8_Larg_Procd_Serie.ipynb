{
 "cells": [
  {
   "cell_type": "markdown",
   "id": "d6af9bdb-e7d6-4431-acab-1b8954f92b35",
   "metadata": {},
   "source": [
    "#The four adjacent digits in the 1000-digit number that have the greatest product are 9 × 9 × 8 × 9 = 5832.\n",
    "\n",
    "73167176531330624919225119674426574742355349194934\n",
    "96983520312774506326239578318016984801869478851843\n",
    "85861560789112949495459501737958331952853208805511\n",
    "12540698747158523863050715693290963295227443043557\n",
    "66896648950445244523161731856403098711121722383113\n",
    "62229893423380308135336276614282806444486645238749\n",
    "30358907296290491560440772390713810515859307960866\n",
    "70172427121883998797908792274921901699720888093776\n",
    "65727333001053367881220235421809751254540594752243\n",
    "52584907711670556013604839586446706324415722155397\n",
    "53697817977846174064955149290862569321978468622482\n",
    "83972241375657056057490261407972968652414535100474\n",
    "82166370484403199890008895243450658541227588666881\n",
    "16427171479924442928230863465674813919123162824586\n",
    "17866458359124566529476545682848912883142607690042\n",
    "24219022671055626321111109370544217506941658960408\n",
    "07198403850962455444362981230987879927244284909188\n",
    "84580156166097919133875499200524063689912560717606\n",
    "05886116467109405077541002256983155200055935729725\n",
    "71636269561882670428252483600823257530420752963450\n",
    "\n",
    "Find the thirteen adjacent digits in the 1000-digit number that have the greatest product. What is the value of this product?"
   ]
  },
  {
   "cell_type": "code",
   "execution_count": 28,
   "id": "605a3691-c35b-4e65-965b-f9c6fc099982",
   "metadata": {},
   "outputs": [],
   "source": [
    "import numpy as np\n",
    "import pandas as pd\n",
    "import sympy as sp\n",
    "import math "
   ]
  },
  {
   "cell_type": "code",
   "execution_count": 42,
   "id": "6d03c473-f530-49b1-846b-3b12ede0cee9",
   "metadata": {},
   "outputs": [],
   "source": [
    "Digit=\"7316717653133062491922511967442657474235534919493496983520312774506326239578318016984801869478851843858615607891129494954595017379583319528532088055111254069874715852386305071569329096329522744304355766896648950445244523161731856403098711121722383113622298934233803081353362766142828064444866452387493035890729629049156044077239071381051585930796086670172427121883998797908792274921901699720888093776657273330010533678812202354218097512545405947522435258490771167055601360483958644670632441572215539753697817977846174064955149290862569321978468622482839722413756570560574902614079729686524145351004748216637048440319989000889524345065854122758866688116427171479924442928230863465674813919123162824586178664583591245665294765456828489128831426076900422421902267105562632111110937054421750694165896040807198403850962455444362981230987879927244284909188845801561660979191338754992005240636899125607176060588611646710940507754100225698315520005593572972571636269561882670428252483600823257530420752963450\""
   ]
  },
  {
   "cell_type": "code",
   "execution_count": 163,
   "id": "8bb8c76f-72f9-4b8c-a465-8f78e8c78ddd",
   "metadata": {},
   "outputs": [
    {
     "name": "stdout",
     "output_type": "stream",
     "text": [
      "[7, 3, 1, 6, 7]\n"
     ]
    }
   ],
   "source": [
    "lst = []\n",
    "lst.extend(Digit)\n",
    "lst= list(map(int, lst))\n",
    "print(lst[:5])\n",
    "#OR\n",
    "#List = [int(x) for x in Digit]\n",
    "#List[:5]"
   ]
  },
  {
   "cell_type": "code",
   "execution_count": 176,
   "id": "cec32be8-63fa-4a56-a1de-93deb90a6ec1",
   "metadata": {},
   "outputs": [
    {
     "name": "stdout",
     "output_type": "stream",
     "text": [
      "range(0, 988)\n"
     ]
    },
    {
     "data": {
      "text/plain": [
       "(['7316717653133',\n",
       "  '3167176531330',\n",
       "  '1671765313306',\n",
       "  '6717653133062',\n",
       "  '7176531330624'],\n",
       " ['5753042075296',\n",
       "  '7530420752963',\n",
       "  '5304207529634',\n",
       "  '3042075296345',\n",
       "  '0420752963450'])"
      ]
     },
     "execution_count": 176,
     "metadata": {},
     "output_type": "execute_result"
    }
   ],
   "source": [
    "N=13\n",
    "Range = range(0, len(Digit)-N+1)\n",
    "print(Range)\n",
    "List_Digit=[Digit[i:i + N] for i in Range]\n",
    "List_Digit[0:5],List_Digit[-5:]"
   ]
  },
  {
   "cell_type": "code",
   "execution_count": 181,
   "id": "2d744e69-f629-4d8b-a111-d6c728aeff6a",
   "metadata": {},
   "outputs": [
    {
     "name": "stdout",
     "output_type": "stream",
     "text": [
      "['3167176531330', '1671765313306', '6717653133062', '7176531330624', '1765313306249']\n"
     ]
    }
   ],
   "source": [
    "List_Digit_Z = [Int for Int in List_Digit if '0' in Int]\n",
    "#Index_Z= [n for n, x in enumerate(List_Digit) if '0' in x]\n",
    "print(List_Digit_Z[:5])\n"
   ]
  },
  {
   "cell_type": "code",
   "execution_count": 202,
   "id": "9076bdda-b23c-4ff4-871e-ab90bd5a8673",
   "metadata": {},
   "outputs": [
    {
     "data": {
      "text/plain": [
       "([7316717653133, 6249192251196, 2491922511967, 4919225119674, 9192251196744],\n",
       " [5716362695618, 7163626956188, 1636269561882, 6362695618826, 3626956188267])"
      ]
     },
     "execution_count": 202,
     "metadata": {},
     "output_type": "execute_result"
    }
   ],
   "source": [
    "from functools import reduce  # Required in Python 3\n",
    "import operator\n",
    "def prod(iterable):\n",
    "    return reduce(operator.mul, iterable, 1)\n",
    "\n",
    "List_Digit_F=list(map(int,[ele for ele in List_Digit if ele not in List_Digit_Z]))\n",
    "List_Digit_F[:5],List_Digit_F[-5:]\n"
   ]
  },
  {
   "cell_type": "code",
   "execution_count": 195,
   "id": "31ce4d65-7d77-42c8-adc3-38697420cb42",
   "metadata": {},
   "outputs": [],
   "source": [
    "List_Digit_sum = [prod(map(int, str(List_Digit_F[i]))) for i in range(0, len(List_Digit_F))]\n"
   ]
  },
  {
   "cell_type": "code",
   "execution_count": 198,
   "id": "f96bf56b-cd0b-4789-93d4-c83725da8b9c",
   "metadata": {},
   "outputs": [
    {
     "data": {
      "text/plain": [
       "23514624000"
      ]
     },
     "execution_count": 198,
     "metadata": {},
     "output_type": "execute_result"
    }
   ],
   "source": [
    "max_value = max(List_Digit_sum)\n",
    "N=List_Digit_F[List_Digit_sum.index(max_value)]\n",
    "max_value\n",
    "#N = [int(digit) for digit in N]\n",
    "#np.product([int(x) for a,x in enumerate(str(N))])"
   ]
  },
  {
   "cell_type": "code",
   "execution_count": 199,
   "id": "3bcbf76d-05b7-4619-8c10-09f8c098afd0",
   "metadata": {},
   "outputs": [
    {
     "data": {
      "text/plain": [
       "23514624000"
      ]
     },
     "execution_count": 199,
     "metadata": {},
     "output_type": "execute_result"
    }
   ],
   "source": [
    "from functools import reduce\n",
    "reduce((lambda x, y: x * y), [int(x) for a,x in enumerate(str(N))])"
   ]
  },
  {
   "cell_type": "code",
   "execution_count": 204,
   "id": "74ced2dc-50c9-4da0-8569-b0cb241bec2d",
   "metadata": {},
   "outputs": [],
   "source": [
    "#list(enumerate(List_Digit_F)) "
   ]
  },
  {
   "cell_type": "code",
   "execution_count": null,
   "id": "8a0650dc-76e3-4364-9120-a440ceef1acf",
   "metadata": {},
   "outputs": [],
   "source": []
  }
 ],
 "metadata": {
  "kernelspec": {
   "display_name": "Python 3 (ipykernel)",
   "language": "python",
   "name": "python3"
  },
  "language_info": {
   "codemirror_mode": {
    "name": "ipython",
    "version": 3
   },
   "file_extension": ".py",
   "mimetype": "text/x-python",
   "name": "python",
   "nbconvert_exporter": "python",
   "pygments_lexer": "ipython3",
   "version": "3.9.12"
  }
 },
 "nbformat": 4,
 "nbformat_minor": 5
}
