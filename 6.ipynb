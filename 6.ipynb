{
 "cells": [
  {
   "cell_type": "markdown",
   "id": "9671fa4e-b1f1-43e7-9161-8f3a8cc13e13",
   "metadata": {},
   "source": [
    "The sum of the squares of the first ten natural numbers is, 385\n",
    "\n",
    "The square of the sum of the first ten natural numbers is,  3025\n",
    "\n",
    "Hence the difference between the sum of the squares of the first ten natural numbers and the square of the sum is .\n",
    "2640\n",
    "\n",
    "Find the difference between the sum of the squares of the first one hundred natural numbers and the square of the sum"
   ]
  },
  {
   "cell_type": "code",
   "execution_count": 33,
   "id": "66820cde-953c-4a0c-b3a2-51bbc6d3288a",
   "metadata": {},
   "outputs": [
    {
     "name": "stdout",
     "output_type": "stream",
     "text": [
      "The sum squqres of the  100  Natural numbers is :  25502500\n",
      "The squqres of the sum  100  Natural numbers is :  338350\n",
      "25164150\n"
     ]
    }
   ],
   "source": [
    "import numpy as np\n",
    "import math \n",
    "import operator\n",
    "from functools import reduce \n",
    "\n",
    "N= 100\n",
    "L = np.arange(N+1)\n",
    "S_squqre=sum(L)**2\n",
    "print(\"The sum squqres of the \", N,\" Natural numbers is : \",S_squqre)\n",
    "#reduce((lambda x, y: x * y), Prime)\n",
    "S_sum= sum([x**2 for x in L])\n",
    "print(\"The squqres of the sum \", N,\" Natural numbers is : \",S_sum)\n",
    "\n",
    "print(S_squqre-S_sum)"
   ]
  },
  {
   "cell_type": "code",
   "execution_count": 16,
   "id": "e4a2b099-37fb-4839-a86e-07c3b11c0635",
   "metadata": {},
   "outputs": [
    {
     "data": {
      "text/plain": [
       "list"
      ]
     },
     "execution_count": 16,
     "metadata": {},
     "output_type": "execute_result"
    }
   ],
   "source": []
  },
  {
   "cell_type": "code",
   "execution_count": 24,
   "id": "430f27c5-2fbb-4c4a-bfe3-ca005dd71b5c",
   "metadata": {},
   "outputs": [
    {
     "data": {
      "text/plain": [
       "3025"
      ]
     },
     "execution_count": 24,
     "metadata": {},
     "output_type": "execute_result"
    }
   ],
   "source": []
  },
  {
   "cell_type": "code",
   "execution_count": 28,
   "id": "729b23dc-252e-4bbc-9b5c-393d077a6688",
   "metadata": {},
   "outputs": [
    {
     "data": {
      "text/plain": [
       "-887005403"
      ]
     },
     "execution_count": 28,
     "metadata": {},
     "output_type": "execute_result"
    }
   ],
   "source": []
  },
  {
   "cell_type": "code",
   "execution_count": null,
   "id": "0c1a05a1-a4f0-4497-b252-00313c7561da",
   "metadata": {},
   "outputs": [],
   "source": []
  }
 ],
 "metadata": {
  "kernelspec": {
   "display_name": "Python 3 (ipykernel)",
   "language": "python",
   "name": "python3"
  },
  "language_info": {
   "codemirror_mode": {
    "name": "ipython",
    "version": 3
   },
   "file_extension": ".py",
   "mimetype": "text/x-python",
   "name": "python",
   "nbconvert_exporter": "python",
   "pygments_lexer": "ipython3",
   "version": "3.9.12"
  }
 },
 "nbformat": 4,
 "nbformat_minor": 5
}
