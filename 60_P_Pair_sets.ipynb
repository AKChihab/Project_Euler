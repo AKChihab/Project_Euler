{
 "cells": [
  {
   "cell_type": "markdown",
   "id": "80f9961d-27e3-43dd-9e06-622b588a155c",
   "metadata": {
    "tags": []
   },
   "source": [
    "The primes 3, 7, 109, and 673, are quite remarkable. By taking any two primes and concatenating them in any order the result will always be prime. For example, taking 7 and 109, both 7109 and 1097 are prime. The sum of these four primes, 792, represents the lowest sum for a set of four primes with this property.\n",
    "\n",
    "Find the lowest sum for a set of five primes for which any two primes concatenate to produce another prime."
   ]
  },
  {
   "cell_type": "code",
   "execution_count": 1,
   "id": "c8b33196-fcf7-478d-a948-2ff778fbf784",
   "metadata": {},
   "outputs": [],
   "source": [
    "import math \n",
    "import numpy as np\n",
    "import sympy as pr\n",
    "import pandas as pd\n",
    "import seaborn as sns\n",
    "import itertools"
   ]
  },
  {
   "cell_type": "code",
   "execution_count": 2,
   "id": "a811503a-1127-472f-8d61-8ab180d27a08",
   "metadata": {},
   "outputs": [
    {
     "name": "stdout",
     "output_type": "stream",
     "text": [
      "792\n"
     ]
    },
    {
     "data": {
      "text/plain": [
       "False"
      ]
     },
     "execution_count": 2,
     "metadata": {},
     "output_type": "execute_result"
    }
   ],
   "source": [
    "prime = 3,7,109,673\n",
    "print(sum(prime))\n",
    "pr.isprime(prime) "
   ]
  },
  {
   "cell_type": "code",
   "execution_count": 3,
   "id": "888a1c00-721e-4b50-b9a7-826bf75f099e",
   "metadata": {},
   "outputs": [
    {
     "data": {
      "text/plain": [
       "True"
      ]
     },
     "execution_count": 3,
     "metadata": {},
     "output_type": "execute_result"
    }
   ],
   "source": [
    "def concat_num(List):\n",
    "    # creer les combinaisons via des tuples \n",
    "    L=[(a*10**len(str(b))+b, b*10**len(str(a))+a) for a,b in itertools.combinations(List,2)]\n",
    "    # convertir les elements tuples en single elements \n",
    "    L=list(itertools.chain(*L))\n",
    "    # reture True si tt les elements sont des nombres premiers \n",
    "    return all([pr.isprime(x) for x in L])\n",
    "\n",
    "List= concat_num([3,7,109,673])\n",
    "#[pr.isprime(x) for x in List]\n",
    "List\n"
   ]
  },
  {
   "cell_type": "code",
   "execution_count": 4,
   "id": "c3c27e2f-b67f-429e-931c-a31a0b2b4820",
   "metadata": {},
   "outputs": [
    {
     "data": {
      "text/plain": [
       "[[3, 7],\n",
       " [3, 11],\n",
       " [3, 17],\n",
       " [3, 31],\n",
       " [3, 37],\n",
       " [3, 59],\n",
       " [3, 67],\n",
       " [3, 73],\n",
       " [7, 19],\n",
       " [7, 61],\n",
       " [7, 97],\n",
       " [11, 23],\n",
       " [13, 19],\n",
       " [13, 61],\n",
       " [17, 83],\n",
       " [19, 31],\n",
       " [19, 79],\n",
       " [19, 97],\n",
       " [23, 47],\n",
       " [23, 89],\n",
       " [29, 71],\n",
       " [37, 67],\n",
       " [37, 79],\n",
       " [43, 97]]"
      ]
     },
     "execution_count": 4,
     "metadata": {},
     "output_type": "execute_result"
    }
   ],
   "source": [
    "def prime_set(N):\n",
    "    L=list()\n",
    "    Prime= list(pr.primerange(10**N))\n",
    "    for i, j in itertools.combinations(Prime,2):\n",
    "         if concat_num([i,j]):\n",
    "            L.append([i,j])\n",
    "            #list(itertools.chain(*L))\n",
    "    return L\n",
    "SET = prime_set(2)\n",
    "SET\n"
   ]
  },
  {
   "cell_type": "markdown",
   "id": "459b6956-9220-4652-a286-7b5396a5b036",
   "metadata": {},
   "source": [
    "#\n",
    "def prime_set(N):\n",
    "    L=list()\n",
    "    Prime= list(pr.primerange(10**N))\n",
    "    for i, j in itertools.product(Prime, Prime):\n",
    "         if concat_num(i,j):\n",
    "            L.append([i,j])\n",
    "    return set(list(itertools.chain(*L)))\n",
    "#prime_set(2)\n",
    "\n"
   ]
  },
  {
   "cell_type": "code",
   "execution_count": 22,
   "id": "52ad57da-4e26-424a-b24f-d971e612290c",
   "metadata": {},
   "outputs": [],
   "source": [
    "#list(itertools.combinations(list(itertools.chain(*SET)),2))"
   ]
  },
  {
   "cell_type": "code",
   "execution_count": 5,
   "id": "35d029fc-098b-4364-a26a-3b6067ab825d",
   "metadata": {},
   "outputs": [],
   "source": [
    "Prime= list(pr.primerange(10**2))\n",
    "list(zip(Prime, Prime))\n",
    "L=list(itertools.product(Prime, Prime))\n"
   ]
  },
  {
   "cell_type": "code",
   "execution_count": 6,
   "id": "078b43a1-8c7b-4620-989c-9c9288ed912c",
   "metadata": {},
   "outputs": [
    {
     "ename": "SyntaxError",
     "evalue": "invalid syntax (2236203597.py, line 3)",
     "output_type": "error",
     "traceback": [
      "\u001b[1;36m  Input \u001b[1;32mIn [6]\u001b[1;36m\u001b[0m\n\u001b[1;33m    L=\u001b[0m\n\u001b[1;37m      ^\u001b[0m\n\u001b[1;31mSyntaxError\u001b[0m\u001b[1;31m:\u001b[0m invalid syntax\n"
     ]
    }
   ],
   "source": [
    "L=[]\n",
    "for i in list(itertools.combinations(Prime,2)):\n",
    "    L=\n",
    "    print(i[1][])"
   ]
  },
  {
   "cell_type": "code",
   "execution_count": null,
   "id": "9a33dd79-38b7-48ef-9c4f-ece95cf764d7",
   "metadata": {},
   "outputs": [],
   "source": []
  }
 ],
 "metadata": {
  "kernelspec": {
   "display_name": "Python 3 (ipykernel)",
   "language": "python",
   "name": "python3"
  },
  "language_info": {
   "codemirror_mode": {
    "name": "ipython",
    "version": 3
   },
   "file_extension": ".py",
   "mimetype": "text/x-python",
   "name": "python",
   "nbconvert_exporter": "python",
   "pygments_lexer": "ipython3",
   "version": "3.9.12"
  }
 },
 "nbformat": 4,
 "nbformat_minor": 5
}
