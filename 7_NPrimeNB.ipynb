{
 "cells": [
  {
   "cell_type": "code",
   "execution_count": 18,
   "id": "ce336eba-b974-45c8-9c31-41dd3c814415",
   "metadata": {},
   "outputs": [],
   "source": [
    "import math \n",
    "import numpy as np\n",
    "import sympy as pr\n",
    "import pandas as pd\n",
    "import seaborn as sns"
   ]
  },
  {
   "cell_type": "code",
   "execution_count": 4,
   "id": "18cd778d-25c6-4872-b812-9a1a850b0285",
   "metadata": {},
   "outputs": [
    {
     "data": {
      "text/plain": [
       "False"
      ]
     },
     "execution_count": 4,
     "metadata": {},
     "output_type": "execute_result"
    }
   ],
   "source": [
    "pr.isprime(1119983746)"
   ]
  },
  {
   "cell_type": "code",
   "execution_count": 5,
   "id": "00140e4e-9361-40d1-92ea-058737f0aeee",
   "metadata": {},
   "outputs": [
    {
     "data": {
      "text/latex": [
       "$\\displaystyle 78498$"
      ],
      "text/plain": [
       "78498"
      ]
     },
     "execution_count": 5,
     "metadata": {},
     "output_type": "execute_result"
    }
   ],
   "source": [
    "pr.primepi(1000000)"
   ]
  },
  {
   "cell_type": "code",
   "execution_count": 6,
   "id": "9e42cd14-b8a5-4960-848c-914bcc3c0144",
   "metadata": {},
   "outputs": [
    {
     "data": {
      "text/plain": [
       "104743"
      ]
     },
     "execution_count": 6,
     "metadata": {},
     "output_type": "execute_result"
    }
   ],
   "source": [
    "pr.prime(10001)"
   ]
  },
  {
   "cell_type": "code",
   "execution_count": 9,
   "id": "d7dcab6d-c81e-4bc3-8b2f-cf453372d8c8",
   "metadata": {},
   "outputs": [
    {
     "name": "stdout",
     "output_type": "stream",
     "text": [
      "92113.61411013214 100020001\n"
     ]
    }
   ],
   "source": [
    "n=10001 \n",
    "nl = n*math.log(n)\n",
    "np = n**2\n",
    "print(nl, np)"
   ]
  },
  {
   "cell_type": "code",
   "execution_count": 34,
   "id": "46bf70ca-be30-431c-8c80-4251b00be091",
   "metadata": {},
   "outputs": [
    {
     "data": {
      "text/plain": [
       "False"
      ]
     },
     "execution_count": 34,
     "metadata": {},
     "output_type": "execute_result"
    }
   ],
   "source": [
    "def is_prime(n):\n",
    "#    for i in range(2,n):\n",
    "    for i in range(2,int(math.sqrt(n))+1):\n",
    "        if (n%i) == 0:\n",
    "            return False\n",
    "    return True\n",
    "\n",
    "is_prime(1512153)"
   ]
  },
  {
   "cell_type": "code",
   "execution_count": 21,
   "id": "93268231-2aed-4191-8b0c-010952840c24",
   "metadata": {},
   "outputs": [
    {
     "data": {
      "text/plain": [
       "<AxesSubplot:>"
      ]
     },
     "execution_count": 21,
     "metadata": {},
     "output_type": "execute_result"
    },
    {
     "data": {
      "image/png": "[encoded data removed]",
      "text/plain": [
       "<Figure size 432x288 with 1 Axes>"
      ]
     },
     "metadata": {},
     "output_type": "display_data"
    }
   ],
   "source": [
    "n = 50\n",
    "x = np.arange(n)\n",
    "y1 = np.sqrt(x)\n",
    "y2 = x\n",
    "df = pd.DataFrame({\"O(√n)\":y1,\"O(n)\":y2})\n",
    "sns.set_theme()\n",
    "sns.lineplot(data = df)"
   ]
  },
  {
   "cell_type": "code",
   "execution_count": 49,
   "id": "3eed4ee2-74e7-47e8-8d49-f3a842fdeb3e",
   "metadata": {},
   "outputs": [
    {
     "name": "stdin",
     "output_type": "stream",
     "text": [
      "required prime numbers 10000\n"
     ]
    },
    {
     "name": "stdout",
     "output_type": "stream",
     "text": [
      "104743\n"
     ]
    }
   ],
   "source": [
    "n = int(input(\"required prime numbers\"))\n",
    "NP = []\n",
    "num =1\n",
    "while(len(NP)<=n):\n",
    "    num += 1  \n",
    "    if is_prime(num)==True:\n",
    "        NP.append(num)   \n",
    "print(NP[n])      "
   ]
  },
  {
   "cell_type": "code",
   "execution_count": null,
   "id": "8ebe82ab-31e1-4477-a8a5-26cccd6b4729",
   "metadata": {},
   "outputs": [],
   "source": []
  }
 ],
 "metadata": {
  "kernelspec": {
   "display_name": "Python 3 (ipykernel)",
   "language": "python",
   "name": "python3"
  },
  "language_info": {
   "codemirror_mode": {
    "name": "ipython",
    "version": 3
   },
   "file_extension": ".py",
   "mimetype": "text/x-python",
   "name": "python",
   "nbconvert_exporter": "python",
   "pygments_lexer": "ipython3",
   "version": "3.9.12"
  }
 },
 "nbformat": 4,
 "nbformat_minor": 5
}
