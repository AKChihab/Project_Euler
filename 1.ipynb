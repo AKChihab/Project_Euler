{
 "cells": [
  {
   "cell_type": "markdown",
   "id": "8dbd2512-7242-4efa-82c2-7dde04133210",
   "metadata": {},
   "source": [
    "If we list all the natural numbers below 10 that are multiples of 3 or 5, we get 3, 5, 6 and 9. The sum of these multiples is 23.\n",
    "\n",
    "Find the sum of all the multiples of 3 or 5 below 1000."
   ]
  },
  {
   "cell_type": "code",
   "execution_count": 1,
   "id": "e8a52a74-c10f-4499-a94b-9bda17bbf1c6",
   "metadata": {},
   "outputs": [],
   "source": [
    "N=1000\n",
    "S=0\n",
    "for i in range(N):\n",
    "    if  (i%3) == 0 or  (i%5) == 0:\n",
    "        S=S+i"
   ]
  },
  {
   "cell_type": "code",
   "execution_count": 2,
   "id": "8fb11f2a-a249-488a-a2be-6dc15088e104",
   "metadata": {},
   "outputs": [
    {
     "data": {
      "text/plain": [
       "233168"
      ]
     },
     "execution_count": 2,
     "metadata": {},
     "output_type": "execute_result"
    }
   ],
   "source": [
    "S"
   ]
  },
  {
   "cell_type": "code",
   "execution_count": null,
   "id": "bae84420-bb1d-4b87-b699-300872d23424",
   "metadata": {},
   "outputs": [],
   "source": []
  }
 ],
 "metadata": {
  "kernelspec": {
   "display_name": "Python 3 (ipykernel)",
   "language": "python",
   "name": "python3"
  },
  "language_info": {
   "codemirror_mode": {
    "name": "ipython",
    "version": 3
   },
   "file_extension": ".py",
   "mimetype": "text/x-python",
   "name": "python",
   "nbconvert_exporter": "python",
   "pygments_lexer": "ipython3",
   "version": "3.9.12"
  }
 },
 "nbformat": 4,
 "nbformat_minor": 5
}
