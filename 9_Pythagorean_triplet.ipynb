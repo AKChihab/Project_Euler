{
 "cells": [
  {
   "cell_type": "markdown",
   "id": "65efbec2-229e-467d-b6d6-17de713ec580",
   "metadata": {},
   "source": [
    "A Pythagorean triplet is a set of three natural numbers, a < b < c, for which,\n",
    "\n",
    "a2 + b2 = c2\n",
    "For example, 3^2 + 4^2 = 9 + 16 = 25 = 5**2\n",
    "\n",
    "There exists exactly one Pythagorean triplet for which a + b + c = 1000.\n",
    "Find the product abc."
   ]
  },
  {
   "cell_type": "code",
   "execution_count": 2,
   "id": "2534a4f4-baec-4da8-8b04-c167a39f2820",
   "metadata": {},
   "outputs": [],
   "source": [
    "import numpy as np\n",
    "import math \n",
    "import sys "
   ]
  },
  {
   "cell_type": "code",
   "execution_count": 9,
   "id": "ca81e9ee-bd79-405c-b36b-d077657f552c",
   "metadata": {},
   "outputs": [
    {
     "name": "stdout",
     "output_type": "stream",
     "text": [
      "200,375,425\n",
      "31875000\n"
     ]
    }
   ],
   "source": [
    "def pythagorean_triangle(n):\n",
    "    for b in range(1,n-1):\n",
    "        for a in range(1,b):\n",
    "            c=math.sqrt(a**2+b**2)\n",
    "            if c.is_integer() and a+b+c==n:\n",
    "                print(f\"{a},{b},{int(c)}\")\n",
    "                print(f\"{a*b*int(c)}\")\n",
    "pythagorean_triangle(1000)"
   ]
  },
  {
   "cell_type": "code",
   "execution_count": null,
   "id": "fd5b8559-0845-4038-90a3-d28e307767a4",
   "metadata": {},
   "outputs": [],
   "source": []
  },
  {
   "cell_type": "code",
   "execution_count": 8,
   "id": "a7d416a3-4fed-4bde-858a-cf467f3ea7cc",
   "metadata": {},
   "outputs": [
    {
     "name": "stdout",
     "output_type": "stream",
     "text": [
      "3 4 5\n"
     ]
    }
   ],
   "source": [
    "import math\n",
    "def pythagorean_triplet(n):\n",
    "    for b in range(n):\n",
    "        for a in range(1, b):\n",
    "            c = math.sqrt( a * a + b * b)\n",
    "            if c % 1 == 0:\n",
    "                print(a, b, int(c))\n",
    "            \n",
    "pythagorean_triplet(5)"
   ]
  },
  {
   "cell_type": "code",
   "execution_count": null,
   "id": "1331259b-602d-445f-b1b5-371453f99894",
   "metadata": {},
   "outputs": [],
   "source": []
  }
 ],
 "metadata": {
  "kernelspec": {
   "display_name": "Python 3 (ipykernel)",
   "language": "python",
   "name": "python3"
  },
  "language_info": {
   "codemirror_mode": {
    "name": "ipython",
    "version": 3
   },
   "file_extension": ".py",
   "mimetype": "text/x-python",
   "name": "python",
   "nbconvert_exporter": "python",
   "pygments_lexer": "ipython3",
   "version": "3.9.12"
  }
 },
 "nbformat": 4,
 "nbformat_minor": 5
}
