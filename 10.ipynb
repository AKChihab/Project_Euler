{
 "cells": [
  {
   "cell_type": "markdown",
   "id": "430ae375-6395-4683-82d0-c3b9aaf8b613",
   "metadata": {},
   "source": [
    "The sum of the primes below 10 is 2 + 3 + 5 + 7 = 17.\n",
    "\n",
    "Find the sum of all the primes below two million."
   ]
  },
  {
   "cell_type": "code",
   "execution_count": 1,
   "id": "6ac5c220-8190-402c-9ba5-87f5dcb10e84",
   "metadata": {},
   "outputs": [],
   "source": [
    "import numpy as np\n",
    "import sympy as sp \n",
    "import math "
   ]
  },
  {
   "cell_type": "code",
   "execution_count": 20,
   "id": "51f2634a-d8f2-46f5-81ea-34a63801e46c",
   "metadata": {},
   "outputs": [
    {
     "data": {
      "text/plain": [
       "False"
      ]
     },
     "execution_count": 20,
     "metadata": {},
     "output_type": "execute_result"
    }
   ],
   "source": [
    "def is_prime(n):\n",
    "#    for i in range(2,n):\n",
    "    for i in range(2,int(math.sqrt(n))+1):\n",
    "        if (n%i) == 0 or n ==1:\n",
    "            return False\n",
    "    return True\n",
    "\n",
    "is_prime(1512153)"
   ]
  },
  {
   "cell_type": "code",
   "execution_count": 5,
   "id": "b485f558-674a-456f-94ab-f63c924ef3f1",
   "metadata": {},
   "outputs": [],
   "source": []
  },
  {
   "cell_type": "code",
   "execution_count": 22,
   "id": "0d24024c-8154-4920-a6db-8730f27a513a",
   "metadata": {},
   "outputs": [
    {
     "data": {
      "text/plain": [
       "True"
      ]
     },
     "execution_count": 22,
     "metadata": {},
     "output_type": "execute_result"
    }
   ],
   "source": [
    "is_prime(1)"
   ]
  },
  {
   "cell_type": "code",
   "execution_count": null,
   "id": "e36582d2-b3e8-44af-8629-19ae683e783f",
   "metadata": {},
   "outputs": [
    {
     "name": "stdout",
     "output_type": "stream",
     "text": [
      "142913828922\n"
     ]
    }
   ],
   "source": [
    "S=[2]\n",
    "i=0\n",
    "N=2*10**6\n",
    "#N=10\n",
    "List = list(range(3,N,2))\n",
    "while i<len(List):\n",
    "    if is_prime(List[i]):\n",
    "        S.append(List[i])\n",
    "        i+=1\n",
    "    else: \n",
    "        i+=1\n",
    "print(sum(S))"
   ]
  },
  {
   "cell_type": "code",
   "execution_count": 16,
   "id": "7d2c22f8-010f-4c04-97ff-8a14fe18c2f2",
   "metadata": {},
   "outputs": [
    {
     "name": "stdout",
     "output_type": "stream",
     "text": [
      "2000000\n"
     ]
    }
   ],
   "source": []
  },
  {
   "cell_type": "code",
   "execution_count": null,
   "id": "d18d2bad-d94d-4750-a48a-ff4b8a5867bf",
   "metadata": {},
   "outputs": [],
   "source": []
  }
 ],
 "metadata": {
  "kernelspec": {
   "display_name": "Python 3 (ipykernel)",
   "language": "python",
   "name": "python3"
  },
  "language_info": {
   "codemirror_mode": {
    "name": "ipython",
    "version": 3
   },
   "file_extension": ".py",
   "mimetype": "text/x-python",
   "name": "python",
   "nbconvert_exporter": "python",
   "pygments_lexer": "ipython3",
   "version": "3.9.12"
  }
 },
 "nbformat": 4,
 "nbformat_minor": 5
}
