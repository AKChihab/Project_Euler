{
 "cells": [
  {
   "cell_type": "markdown",
   "id": "97ee9656-0157-4e98-b974-2ee39ddb29c6",
   "metadata": {},
   "source": [
    "The prime factors of 13195 are 5, 7, 13 and 29.\n",
    "\n",
    "What is the largest prime factor of the number 600851475143 ?"
   ]
  },
  {
   "cell_type": "code",
   "execution_count": 3,
   "id": "6764e27f-4302-4e59-909f-1c1229c56d2b",
   "metadata": {},
   "outputs": [],
   "source": [
    "import math \n",
    "import numpy as np\n",
    "import sys \n",
    "import sympy as pr\n",
    "X=600851475143"
   ]
  },
  {
   "cell_type": "code",
   "execution_count": 4,
   "id": "fb01aef8-e973-48c9-a0c5-9208ead44928",
   "metadata": {},
   "outputs": [
    {
     "data": {
      "text/plain": [
       "False"
      ]
     },
     "execution_count": 4,
     "metadata": {},
     "output_type": "execute_result"
    }
   ],
   "source": [
    "pr.isprime(X)"
   ]
  },
  {
   "cell_type": "code",
   "execution_count": 7,
   "id": "fffa1d42-bad9-43f3-a7b1-2d5980cf6911",
   "metadata": {},
   "outputs": [
    {
     "data": {
      "text/plain": [
       "{71: 1, 839: 1, 1471: 1, 6857: 1}"
      ]
     },
     "execution_count": 7,
     "metadata": {},
     "output_type": "execute_result"
    }
   ],
   "source": [
    "pr.factorint(X)"
   ]
  },
  {
   "cell_type": "code",
   "execution_count": null,
   "id": "7a890dd3-1eb3-4b19-8134-ff4d5a4a5a50",
   "metadata": {},
   "outputs": [],
   "source": []
  }
 ],
 "metadata": {
  "kernelspec": {
   "display_name": "Python 3 (ipykernel)",
   "language": "python",
   "name": "python3"
  },
  "language_info": {
   "codemirror_mode": {
    "name": "ipython",
    "version": 3
   },
   "file_extension": ".py",
   "mimetype": "text/x-python",
   "name": "python",
   "nbconvert_exporter": "python",
   "pygments_lexer": "ipython3",
   "version": "3.9.12"
  }
 },
 "nbformat": 4,
 "nbformat_minor": 5
}
