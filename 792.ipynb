{
 "cells": [
  {
   "cell_type": "code",
   "execution_count": 1,
   "id": "cece210f-64ee-4d96-9781-174ef9c6bc8e",
   "metadata": {},
   "outputs": [],
   "source": [
    "import numpy as np\n",
    "import sympy as sp \n",
    "import math \n",
    "from functools import reduce\n",
    "import itertools\n",
    "import operator as op\n",
    "from operator import mul    # or mul=lambda x,y:x*y\n",
    "from fractions import Fraction\n",
    "import time"
   ]
  },
  {
   "cell_type": "markdown",
   "id": "bc20e443-096a-4c41-9cd9-f4d55fb98f9e",
   "metadata": {},
   "source": [
    "We define V2(n)  to be the largest integer r such that 2^r divides n \n",
    "For example:\n",
    "V2(24)=3\n",
    "2**3=8\n",
    "24%8==0\n",
    "\n",
    "Define \n",
    "S(n) = sum(k in 1 to n , (-2)**k *combinaison(2k,k))\n",
    "and \n",
    "u(n) = V2(3*S(n) + 4 ) \n",
    "\n",
    "\n",
    "For example, when n= 4 then S(4)= 980  and 3S(4)+4 = 2944 = 2**7 , hence . u(4) = 7\n",
    "You are also given .\n",
    "\n",
    "Also define U(N) = sum( i in 1 to N ; u(n**3) \n",
    ". You are given . U(5) = 241 \n",
    "\n",
    "Find U(10**4 ) "
   ]
  },
  {
   "cell_type": "code",
   "execution_count": 77,
   "id": "9d4729fd-11d3-43a2-b7dd-58622e00afe5",
   "metadata": {},
   "outputs": [],
   "source": [
    "#def nCk(n,k): \n",
    "#   return int( reduce(mul, (Fraction(n-i, i+1) for i in range(k)), 1) )\n",
    "#nCk(30,10)"
   ]
  },
  {
   "cell_type": "code",
   "execution_count": 52,
   "id": "43ba8a14-c0f3-4fa4-bcd3-3a609c7f22d0",
   "metadata": {
    "jupyter": {
     "source_hidden": true
    },
    "tags": []
   },
   "outputs": [],
   "source": [
    "def C(k, n):\n",
    "    \"\"\"Nombre de combinaisons sans répétition de k objets pris parmi n\"\"\"\n",
    "    if k > n//2:\n",
    "        k = n-k\n",
    "    x = 1\n",
    "    y = 1\n",
    "    i = n-k+1\n",
    "    while i <= n:\n",
    "        x = (x*i)//y\n",
    "        y += 1\n",
    "        i += 1\n",
    "    return x\n",
    "#C(10,30)\n"
   ]
  },
  {
   "cell_type": "code",
   "execution_count": 8,
   "id": "c1c79bc4-5d95-475a-b6b2-5c05ae711d0a",
   "metadata": {},
   "outputs": [
    {
     "name": "stdout",
     "output_type": "stream",
     "text": [
      "16970409338591771062799540686254668582424081921289465482192843315985527815600712574941180748286019647686822911288402376411841172377810111665238658684517104044069468397466161861266833872888111024656421313828840608521692780568830198296495471863367126317812259792623540537572577511446596445020823625694178138580932943750507092690678343649565190001706605886932789200830445070939725160783669596820572882660760091300695465310666698917835421351244630244991285830176768570638472693043135061275161301004329672170427893269519499983752613498249529346755092934065248132066827996306369066076725220371630052342740622933762711288020089185937930025691028519533843099321045730789960028038669864895762214865792020280503369406338399173484134789341397030413723224945299331392909600894261956432283539370943017306467170094743395184519439281498862471316817899754323255502601863506213218156188601596106312773505112963868749259551160783309499423967020023581037594788240465187087261691050382427393918912113115434508124943868141679944433607071436903988714013071793261664442215450920364432937531103374950342487183351127383290167606907532812961746410356699335165603755374638361277830376919394523903034637162613585019696568711017126804708394109445899154843621431622433031681033144141860079558855301660732095750828022039218604899823827226695658733798765780830409211822647459834850506725391084977726189382246455809447486441154598423080276246147365542287086777872972585635197327845581699851919817340448299956351015961886351649511573796484064401798121586690395379181507288868296611665900534556061617408282909237519398452352179147026828719122661106999343472465301973112837825471649275813500103959835479318008731006177792283495148541063035763231754564307239594456031705966986030913982276077265177399187947254488381871249627343488062850422100\n",
      "--- 1.7052116394042969 seconds ---\n"
     ]
    }
   ],
   "source": [
    "def kSn(n):\n",
    "    #S=0\n",
    "    #for i in range(1,n+1):\n",
    "    #    S+=(-2)**i *math.comb(2*i, i)\n",
    "    return sum([(-2)**i *math.comb(2*i, i) for i in range(1,n+1)])\n"
   ]
  },
  {
   "cell_type": "code",
   "execution_count": null,
   "id": "ecdce28b-79b4-451a-b825-608b01c0a7e0",
   "metadata": {},
   "outputs": [],
   "source": [
    "KSN_LIST=[-4]\n",
    "N=20\n",
    "def KSN(N):\n",
    "    if not KSN_LIST:\n",
    "        KSN_LIST=[-4]\n",
    "    else :\n",
    "        i=len(KSN_LIST)\n",
    "        while i<N:            \n",
    "            L.append( op.itemgetter(-1)(KSN_LIST) + (-2)**(len(KSN_LIST)+1) *math.comb(2*(len(KSN_LIST)+1), (len(KSN_LIST)+1)))\n",
    "            i+=1\n",
    "    return KSN_LIST[N-1]\n",
    "\n",
    "X= KSN(N-1)\n",
    "print(\"--- %s seconds ---\" % (time.time() - start_time))\n"
   ]
  },
  {
   "cell_type": "code",
   "execution_count": 54,
   "id": "63c2e618-5155-4c04-b725-6cc456c34311",
   "metadata": {},
   "outputs": [
    {
     "data": {
      "text/plain": [
       "2"
      ]
     },
     "execution_count": 54,
     "metadata": {},
     "output_type": "execute_result"
    }
   ],
   "source": [
    "def V2n(n):\n",
    "    #option1\n",
    "    #L=[fact for fact in range(1, abs(n) + 1) if n % fact == 0]\n",
    "    #F= [[2**p,p] for p,v in enumerate(bin(abs(n))[:1:-1]) if int(v) and 2**p in L] \n",
    "    #r_select =max([F[p][1] for p in  range(len(F))])\n",
    "    #option 2\n",
    "    #if n%2 != 0 :\n",
    "    #    v=0\n",
    "    #else :\n",
    "    #    v= sp.factorint(n).get(2)\n",
    "    r=1\n",
    "    if n%2 != 0 :\n",
    "        r=0\n",
    "    while r>0 and n%2 == 0 :\n",
    "        r+=1\n",
    "        n=n//2\n",
    "    \n",
    "    return r-1\n",
    "\n",
    "V2n(X)"
   ]
  },
  {
   "cell_type": "code",
   "execution_count": 55,
   "id": "f4c0186c-4ccd-4729-b245-28af1e77b885",
   "metadata": {},
   "outputs": [],
   "source": [
    "#n=kSn(5)*3+4\n",
    "#L=[fact for fact in range(1, abs(n) + 1) if n % fact == 0]\n",
    "#F= [[2**p,p] for p,v in enumerate(bin(abs(n))[:1:-1]) if int(v) and 2**p in L] \n"
   ]
  },
  {
   "cell_type": "code",
   "execution_count": 59,
   "id": "032bffff-012c-4215-834b-3adef0e091c7",
   "metadata": {},
   "outputs": [
    {
     "data": {
      "text/plain": [
       "7"
      ]
     },
     "execution_count": 59,
     "metadata": {},
     "output_type": "execute_result"
    }
   ],
   "source": [
    "def UNS(N):\n",
    "    return sum([Uvn(int(math.pow(i,3))) for i in range(1,N+1)])\n",
    "\n",
    "UNS(10)\n"
   ]
  },
  {
   "cell_type": "code",
   "execution_count": null,
   "id": "d04dc21f-a20a-4b9d-a0d0-6c0de061576f",
   "metadata": {},
   "outputs": [],
   "source": [
    "start_time = time.time()\n",
    "N=pow(10,4)\n",
    "kSn(3*pow(N,3)+4)\n",
    "print(\"--- %s seconds ---\" % (time.time() - start_time))"
   ]
  },
  {
   "cell_type": "code",
   "execution_count": null,
   "id": "00c9cf26-321b-4306-a742-d91e32f522d0",
   "metadata": {},
   "outputs": [],
   "source": []
  },
  {
   "cell_type": "code",
   "execution_count": 25,
   "id": "46a11eeb-29c7-47d6-a361-a77d7aa8175c",
   "metadata": {},
   "outputs": [
    {
     "name": "stdout",
     "output_type": "stream",
     "text": [
      "[(128, 7)]\n",
      "[0]\n"
     ]
    },
    {
     "data": {
      "text/plain": [
       "7"
      ]
     },
     "execution_count": 25,
     "metadata": {},
     "output_type": "execute_result"
    }
   ],
   "source": [
    "n=2944\n",
    "L=[fact for fact in range(1, n + 1) if n % fact == 0]\n",
    "F= [(2**p,p) for p,v in enumerate(bin(n)[:1:-1]) if int(v) and 2**p in L] \n",
    "print(F)\n",
    "print(list(range(len(F))))\n",
    "r_select= max([F[p][1] for p in  range(len(F))])\n",
    "#L_check = max([l for l in L if l in [F[i][0] for i in range(len(F[0][:]))] ])\n",
    "#F_select = F[]\n",
    "r_select"
   ]
  },
  {
   "cell_type": "code",
   "execution_count": 45,
   "id": "755def00-4b94-48a0-b9fe-3aea1b8124ae",
   "metadata": {},
   "outputs": [],
   "source": [
    "def myfunc(x):\n",
    "    powers = []\n",
    "    i = 1\n",
    "    while i <= x:\n",
    "        if i & x:\n",
    "            powers.append(i)\n",
    "        i <<= 1\n",
    "    return powers"
   ]
  },
  {
   "cell_type": "code",
   "execution_count": 37,
   "id": "c44c2847-6de4-4df3-8d3e-f9b7fc88f6e5",
   "metadata": {},
   "outputs": [
    {
     "data": {
      "text/plain": [
       "[8, 16]"
      ]
     },
     "execution_count": 37,
     "metadata": {},
     "output_type": "execute_result"
    }
   ],
   "source": [
    "myfunc(24)"
   ]
  },
  {
   "cell_type": "code",
   "execution_count": 81,
   "id": "270544ba-aea1-44fc-8a48-f2af73479fb1",
   "metadata": {},
   "outputs": [
    {
     "data": {
      "text/plain": [
       "[4, 32]"
      ]
     },
     "execution_count": 81,
     "metadata": {},
     "output_type": "execute_result"
    }
   ],
   "source": [
    "def powers(n):\n",
    "    return [[2**p,p] for p,v in enumerate(bin(n)[:1:-1]) if int(v)] \n",
    "L= powers(36)\n",
    "[L[i][0] for i in range(len(L[0][:]))]"
   ]
  },
  {
   "cell_type": "code",
   "execution_count": 47,
   "id": "d7b3c22f-e6de-420b-921f-34b2e30c149f",
   "metadata": {},
   "outputs": [
    {
     "name": "stdout",
     "output_type": "stream",
     "text": [
      "Blocks for 36 : 2, 5\n",
      "\n"
     ]
    }
   ],
   "source": [
    "def block(x):\n",
    "      \n",
    "    v = []\n",
    "      \n",
    "    # Converting the decimal number\n",
    "    # into its binary equivalent.\n",
    "    print (\"Blocks for %d : \" %x, end=\"\")\n",
    "    while (x > 0):\n",
    "        v.append(int(x % 2))\n",
    "        x = int(x / 2)\n",
    "  \n",
    "    # Displaying the output when\n",
    "    # the bit is '1' in binary\n",
    "    # equivalent of number.\n",
    "    for i in range(0, len(v)):\n",
    "        if (v[i] == 1):\n",
    "            print (i, end = \"\")\n",
    "            if (i != len(v) - 1):\n",
    "                print (\", \", end = \"\")\n",
    "    print (\"\\n\")\n",
    "block(36)"
   ]
  },
  {
   "cell_type": "code",
   "execution_count": null,
   "id": "8a68b08e-19be-4dde-9823-b3ac1db61668",
   "metadata": {},
   "outputs": [],
   "source": [
    "def Uvn(n):\n",
    "    P=3*kSn(n) + 4\n",
    "    return V2n(P)\n",
    "Uvn(4)\n"
   ]
  }
 ],
 "metadata": {
  "kernelspec": {
   "display_name": "Python 3 (ipykernel)",
   "language": "python",
   "name": "python3"
  },
  "language_info": {
   "codemirror_mode": {
    "name": "ipython",
    "version": 3
   },
   "file_extension": ".py",
   "mimetype": "text/x-python",
   "name": "python",
   "nbconvert_exporter": "python",
   "pygments_lexer": "ipython3",
   "version": "3.9.12"
  }
 },
 "nbformat": 4,
 "nbformat_minor": 5
}
