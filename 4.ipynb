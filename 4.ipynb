{
 "cells": [
  {
   "cell_type": "markdown",
   "id": "a963e7aa-a6ce-4190-8d40-da32018f78c4",
   "metadata": {},
   "source": [
    "A palindromic number reads the same both ways. The largest palindrome made from the product of two 2-digit numbers is 9009 = 91 × 99.\n",
    "\n",
    "Find the largest palindrome made from the product of two 3-digit numbers."
   ]
  },
  {
   "cell_type": "code",
   "execution_count": 114,
   "id": "d5d6e9cc-571d-43c0-a22d-f30a44d32929",
   "metadata": {},
   "outputs": [],
   "source": [
    "import math\n",
    "import sympy as sp\n",
    "import numpy as np\n",
    "from functools import reduce\n",
    "import itertools\n",
    "from operator import itemgetter"
   ]
  },
  {
   "cell_type": "code",
   "execution_count": 32,
   "id": "12f53e60-c3a2-4c4a-ac95-70aefa503789",
   "metadata": {},
   "outputs": [
    {
     "data": {
      "text/plain": [
       "True"
      ]
     },
     "execution_count": 32,
     "metadata": {},
     "output_type": "execute_result"
    }
   ],
   "source": [
    "def Palindromic(N):\n",
    "    digit=list(reversed([int(x) for x in str(N)]))\n",
    "    #num = int(reduce(lambda x,y: x+str(y), digit, ''))\n",
    "    #num = int(''.join(map(str,numList)))\n",
    "    #if num=N then True or compare list of digits \n",
    "    return digit[::-1]==digit \n",
    "\n",
    "Palindromic(9009)      "
   ]
  },
  {
   "cell_type": "code",
   "execution_count": 134,
   "id": "db979cb4-f9a8-49c3-ace3-64e805189fc0",
   "metadata": {},
   "outputs": [],
   "source": [
    "N_Digit=3\n",
    "L=range(10**(N_Digit-1),10**N_Digit)\n",
    "LP=[[a,b,a*b] for (a,b) in itertools.combinations(L,2)]\n",
    "LP[2][:]\n",
    "\n",
    "#PROD =list(map(itemgetter(-1), LP))\n",
    "PROD = [i[-1] for i in LP]\n",
    "\n"
   ]
  },
  {
   "cell_type": "code",
   "execution_count": 135,
   "id": "9d515b55-b8f3-409b-b8ce-a8dc0505b462",
   "metadata": {},
   "outputs": [
    {
     "name": "stdout",
     "output_type": "stream",
     "text": [
      "906609\n"
     ]
    }
   ],
   "source": [
    "Prod_N=list(filter(Palindromic, PROD))\n",
    "Prod_N\n",
    "PAL_Max= max(Prod_N)\n",
    "print(PAL_Max)\n",
    "# convertir les elements tuples en single elements \n",
    "#Prod_N=list(itertools.chain(*Prod_N))\n"
   ]
  },
  {
   "cell_type": "code",
   "execution_count": 118,
   "id": "d7423335-02fd-43b4-9f0d-532f38e00df3",
   "metadata": {},
   "outputs": [],
   "source": []
  },
  {
   "cell_type": "code",
   "execution_count": 51,
   "id": "79329400-329b-43ff-b2b3-393d829ca6ed",
   "metadata": {},
   "outputs": [
    {
     "name": "stdout",
     "output_type": "stream",
     "text": [
      "<built-in method reverse of list object at 0x000002308CDCF740>\n"
     ]
    },
    {
     "ename": "NameError",
     "evalue": "name 'Range' is not defined",
     "output_type": "error",
     "traceback": [
      "\u001b[1;31m---------------------------------------------------------------------------\u001b[0m",
      "\u001b[1;31mNameError\u001b[0m                                 Traceback (most recent call last)",
      "Input \u001b[1;32mIn [51]\u001b[0m, in \u001b[0;36m<cell line: 3>\u001b[1;34m()\u001b[0m\n\u001b[0;32m      1\u001b[0m dig_rev\u001b[38;5;241m=\u001b[39m digit\u001b[38;5;241m.\u001b[39mreverse\n\u001b[0;32m      2\u001b[0m \u001b[38;5;28mprint\u001b[39m(dig_rev)\n\u001b[1;32m----> 3\u001b[0m [digit\u001b[38;5;241m.\u001b[39mreverse \u001b[38;5;28;01mfor\u001b[39;00m i \u001b[38;5;129;01min\u001b[39;00m \u001b[43mRange\u001b[49m]\n",
      "\u001b[1;31mNameError\u001b[0m: name 'Range' is not defined"
     ]
    }
   ],
   "source": []
  },
  {
   "cell_type": "code",
   "execution_count": 13,
   "id": "fd6f6d1e-d97c-4855-8858-456fbc482dc9",
   "metadata": {},
   "outputs": [
    {
     "data": {
      "text/plain": [
       "[None]"
      ]
     },
     "execution_count": 13,
     "metadata": {},
     "output_type": "execute_result"
    }
   ],
   "source": []
  },
  {
   "cell_type": "code",
   "execution_count": 19,
   "id": "8bdb2907-43e5-4728-a9f2-08d7483d53b4",
   "metadata": {},
   "outputs": [],
   "source": []
  },
  {
   "cell_type": "code",
   "execution_count": null,
   "id": "9342376f-94ab-4292-b739-f8f6004dbb17",
   "metadata": {},
   "outputs": [],
   "source": []
  }
 ],
 "metadata": {
  "kernelspec": {
   "display_name": "Python 3 (ipykernel)",
   "language": "python",
   "name": "python3"
  },
  "language_info": {
   "codemirror_mode": {
    "name": "ipython",
    "version": 3
   },
   "file_extension": ".py",
   "mimetype": "text/x-python",
   "name": "python",
   "nbconvert_exporter": "python",
   "pygments_lexer": "ipython3",
   "version": "3.9.12"
  }
 },
 "nbformat": 4,
 "nbformat_minor": 5
}
