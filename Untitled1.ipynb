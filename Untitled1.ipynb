{
 "cells": [
  {
   "cell_type": "code",
   "execution_count": 1,
   "id": "f3ed049a-3193-4ffb-a6b4-f7194e20926b",
   "metadata": {},
   "outputs": [],
   "source": [
    "import math \n",
    "import numpy as np \n",
    "import pandas as pd "
   ]
  },
  {
   "cell_type": "code",
   "execution_count": 5,
   "id": "9dedec4d-3413-495c-904f-65f498fe0414",
   "metadata": {},
   "outputs": [],
   "source": [
    "def profit_loss(m,x):\n",
    "    return m*(1+x/100)*(1-x/100)"
   ]
  },
  {
   "cell_type": "code",
   "execution_count": 7,
   "id": "88866b24-cd53-4971-a5d4-2a1c9d516b45",
   "metadata": {},
   "outputs": [
    {
     "data": {
      "text/plain": [
       "99.00000000000001"
      ]
     },
     "execution_count": 7,
     "metadata": {},
     "output_type": "execute_result"
    }
   ],
   "source": [
    "profit_loss(100,10)"
   ]
  },
  {
   "cell_type": "code",
   "execution_count": 13,
   "id": "5669c437-6b07-4331-a2d5-99502d463b22",
   "metadata": {},
   "outputs": [
    {
     "data": {
      "text/plain": [
       "[200.0,\n",
       " 198.00000000000003,\n",
       " 192.0,\n",
       " 182.0,\n",
       " 168.0,\n",
       " 150.0,\n",
       " 128.0,\n",
       " 102.00000000000001,\n",
       " 71.99999999999999,\n",
       " 37.99999999999999]"
      ]
     },
     "execution_count": 13,
     "metadata": {},
     "output_type": "execute_result"
    }
   ],
   "source": [
    "[profit_loss(200,x) for x in range(0,99,10)]"
   ]
  },
  {
   "cell_type": "code",
   "execution_count": 9,
   "id": "4e1ea704-a4dd-400d-8c93-31c4ddd5d322",
   "metadata": {},
   "outputs": [
    {
     "data": {
      "text/plain": [
       "99.00000000000001"
      ]
     },
     "execution_count": 9,
     "metadata": {},
     "output_type": "execute_result"
    }
   ],
   "source": []
  },
  {
   "cell_type": "code",
   "execution_count": null,
   "id": "2caf6d69-44a8-4aa1-ac43-95c4c8ffb47f",
   "metadata": {},
   "outputs": [],
   "source": []
  }
 ],
 "metadata": {
  "kernelspec": {
   "display_name": "Python 3 (ipykernel)",
   "language": "python",
   "name": "python3"
  },
  "language_info": {
   "codemirror_mode": {
    "name": "ipython",
    "version": 3
   },
   "file_extension": ".py",
   "mimetype": "text/x-python",
   "name": "python",
   "nbconvert_exporter": "python",
   "pygments_lexer": "ipython3",
   "version": "3.9.12"
  }
 },
 "nbformat": 4,
 "nbformat_minor": 5
}
